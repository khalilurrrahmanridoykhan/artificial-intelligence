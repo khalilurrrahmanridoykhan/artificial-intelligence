{
 "cells": [
  {
   "cell_type": "code",
   "execution_count": null,
   "metadata": {},
   "outputs": [],
   "source": [
    "import random\n",
    "import math\n",
    "import matplotlib.pyplot as plt"
   ]
  },
  {
   "cell_type": "code",
   "execution_count": 3,
   "metadata": {},
   "outputs": [],
   "source": [
    "class Displayable:\n",
    "    max_dispaly_level = 1\n",
    "    def display(self, level=0, *args, **nargs):\n",
    "        if level <= self.max_dispaly_level:\n",
    "            self.__display(level, *args, **nargs)"
   ]
  },
  {
   "cell_type": "code",
   "execution_count": null,
   "metadata": {},
   "outputs": [
    {
     "ename": "",
     "evalue": "",
     "output_type": "error",
     "traceback": [
      "\u001b[1;31mThe Kernel crashed while executing code in the current cell or a previous cell. \n",
      "\u001b[1;31mPlease review the code in the cell(s) to identify a possible cause of the failure. \n",
      "\u001b[1;31mClick <a href='https://aka.ms/vscodeJupyterKernelCrash'>here</a> for more info. \n",
      "\u001b[1;31mView Jupyter <a href='command:jupyter.viewOutput'>log</a> for further details."
     ]
    }
   ],
   "source": [
    "class Plot_history(object):\n",
    "    def __init__(self, ag, env):\n",
    "        self.ag = ag\n",
    "        self.env = env\n",
    "        plt.ion()\n",
    "        plt.xlabel('Time')\n",
    "        plt.ylabel('Value')\n",
    "\n",
    "    def plot_env_hist(self):\n",
    "        num = len(self.env.history)\n"
   ]
  },
  {
   "cell_type": "code",
   "execution_count": null,
   "metadata": {},
   "outputs": [],
   "source": [
    "class PriceMonitoringController:\n",
    "    \"\"\"Monitors the price and determines if it is below the threshold.\"\"\"\n",
    "    def __init__(self, threshold_discount=0.2):\n",
    "        self.threshold_discount = threshold_discount\n",
    "\n",
    "    def is_price_below_threshold(self, current_price, average_price):\n",
    "        \"\"\"Check if the price is below the threshold.\"\"\"\n",
    "        return current_price < (1 - self.threshold_discount) * average_price\n",
    "\n",
    "\n",
    "class InventoryMonitoringController:\n",
    "    \"\"\"Monitors inventory levels and checks if restocking is needed.\"\"\"\n",
    "    def __init__(self, critical_threshold=10):\n",
    "        self.critical_threshold = critical_threshold\n",
    "\n",
    "    def is_inventory_critical(self, current_stock):\n",
    "        \"\"\"Check if inventory is below the critical threshold.\"\"\"\n",
    "        return current_stock < self.critical_threshold\n",
    "\n",
    "\n",
    "class OrderingController:\n",
    "    \"\"\"Decides the quantity to order based on inputs from other controllers.\"\"\"\n",
    "    def __init__(self):\n",
    "        self.buy_history = []\n",
    "        self.spent = 0\n",
    "\n",
    "    def decide_order(self, current_price, average_price, current_stock, price_controller, inventory_controller):\n",
    "        \"\"\"Decide the quantity to order.\"\"\"\n",
    "        if price_controller.is_price_below_threshold(current_price, average_price) and current_stock >= 10:\n",
    "            tobuy = 15\n",
    "        elif inventory_controller.is_inventory_critical(current_stock):\n",
    "            tobuy = 10\n",
    "        else:\n",
    "            tobuy = 0\n",
    "\n",
    "        self.buy_history.append(tobuy)\n",
    "        self.spent += tobuy * current_price\n",
    "        return tobuy\n",
    "\n",
    "\n",
    "class TP_agent(Agent):\n",
    "    \"\"\"Agent integrates all controllers and selects the action.\"\"\"\n",
    "    def __init__(self):\n",
    "        percept = env.initial_percept()\n",
    "        self.ave = self.last_price = percept['price']\n",
    "        self.instock = percept['instock']\n",
    "\n",
    "        # Initialize controllers\n",
    "        self.price_controller = PriceMonitoringController(threshold_discount=0.2)\n",
    "        self.inventory_controller = InventoryMonitoringController(critical_threshold=10)\n",
    "        self.ordering_controller = OrderingController()\n",
    "\n",
    "    def select_action(self, percept):\n",
    "        \"\"\"Return the next action to carry out.\"\"\"\n",
    "        self.last_price = percept['price']\n",
    "        self.ave = self.ave + (self.last_price - self.ave) * 0.05\n",
    "        self.instock = percept['instock']\n",
    "\n",
    "        tobuy = self.ordering_controller.decide_order(\n",
    "            self.last_price,\n",
    "            self.ave,\n",
    "            self.instock,\n",
    "            self.price_controller,\n",
    "            self.inventory_controller\n",
    "        )\n",
    "        return {'buy': tobuy}\n"
   ]
  }
 ],
 "metadata": {
  "kernelspec": {
   "display_name": "venv",
   "language": "python",
   "name": "python3"
  },
  "language_info": {
   "codemirror_mode": {
    "name": "ipython",
    "version": 3
   },
   "file_extension": ".py",
   "mimetype": "text/x-python",
   "name": "python",
   "nbconvert_exporter": "python",
   "pygments_lexer": "ipython3",
   "version": "3.11.9"
  }
 },
 "nbformat": 4,
 "nbformat_minor": 2
}
