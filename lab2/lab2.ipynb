{
 "cells": [
  {
   "cell_type": "code",
   "execution_count": 34,
   "metadata": {},
   "outputs": [],
   "source": [
    "import random\n",
    "import math\n",
    "import matplotlib.pyplot as plt"
   ]
  },
  {
   "cell_type": "code",
   "execution_count": 35,
   "metadata": {},
   "outputs": [],
   "source": [
    "def argmaxall(gen):\n",
    "    \"\"\"gen is a generator of (element,value) pairs, where value is a real.\n",
    "    argmaxall returns a list of all of the elements with maximal value.\n",
    "    \"\"\"\n",
    "    maxv = -math.inf       # negative infinity\n",
    "    maxvals = []      # list of maximal elements\n",
    "    for (e,v) in gen:\n",
    "        if v>maxv:\n",
    "            maxvals,maxv = [e], v\n",
    "        elif v==maxv:\n",
    "            maxvals.append(e)\n",
    "    return maxvals"
   ]
  },
  {
   "cell_type": "code",
   "execution_count": 36,
   "metadata": {},
   "outputs": [],
   "source": [
    "def argmaxe(gen):\n",
    "    \"\"\"gen is a generator of (element,value) pairs, where value is a real.\n",
    "    argmaxe returns an element with maximal value.\n",
    "    If there are multiple elements with the max value, one is returned at random.\n",
    "    \"\"\"\n",
    "    return random.choice(argmaxall(gen))\n"
   ]
  },
  {
   "cell_type": "code",
   "execution_count": 37,
   "metadata": {},
   "outputs": [],
   "source": [
    "def argmax(lst):\n",
    "    \"\"\"returns maximum index in a list\"\"\"\n",
    "    return argmaxe(enumerate(lst))"
   ]
  },
  {
   "cell_type": "code",
   "execution_count": 38,
   "metadata": {},
   "outputs": [],
   "source": [
    "def flip(prob):\n",
    "    \"\"\"return true with probability prob\"\"\"\n",
    "    return random.random() < prob"
   ]
  },
  {
   "cell_type": "code",
   "execution_count": 39,
   "metadata": {},
   "outputs": [],
   "source": [
    "def select_from_dist(item_prob_dist):\n",
    "    ranreal = random.random()\n",
    "    for (it,prob) in item_prob_dist.items():\n",
    "        if ranreal < prob:\n",
    "            return it\n",
    "        else:\n",
    "            ranreal -= prob\n",
    "    raise RuntimeError(f\"{item_prob_dist} is not a probability distribution\")"
   ]
  },
  {
   "cell_type": "code",
   "execution_count": 40,
   "metadata": {},
   "outputs": [],
   "source": [
    "class Displayable:\n",
    "    max_dispaly_level = 1\n",
    "    def display(self, level=0, *args, **nargs):\n",
    "        if level <= self.max_dispaly_level:\n",
    "            self.__display(level, *args, **nargs)"
   ]
  },
  {
   "cell_type": "code",
   "execution_count": 41,
   "metadata": {},
   "outputs": [],
   "source": [
    "class Plot_history(object):\n",
    "    def __init__(self, ag, env):\n",
    "        self.ag = ag\n",
    "        self.env = env\n",
    "        plt.ion()\n",
    "        plt.xlabel('Time')\n",
    "        plt.ylabel('Value')\n",
    "\n",
    "    def plot_env_hist(self):\n",
    "        num = len(env.stock_history)\n",
    "        plt.plot(range(num),env.price_history,label=\"Price\")\n",
    "        plt.plot(range(num),env.stock_history,label=\"In stock\")\n",
    "        plt.legend()\n",
    "\n",
    "    def plot_agent_hist(self):\n",
    "        \"\"\"plot history of buying\"\"\"\n",
    "        num = len(ag.buy_history)\n",
    "        plt.bar(range(1,num+1), ag.buy_history, label=\"Bought\")\n",
    "        plt.legend()\n",
    "\n",
    "\n"
   ]
  },
  {
   "cell_type": "code",
   "execution_count": 42,
   "metadata": {},
   "outputs": [],
   "source": [
    "class Agent(Displayable):\n",
    "\n",
    "    def initial_action(self, percept):\n",
    "        return self.select_action(percept)\n",
    "    def select_action(self, percept):\n",
    "        raise NotImplementedError(\"go\")"
   ]
  },
  {
   "cell_type": "code",
   "execution_count": 43,
   "metadata": {},
   "outputs": [],
   "source": [
    "\n",
    "class Environment(Displayable):\n",
    "    def initial_percept(self):\n",
    "        \"\"\"returns the initial percept for the agent\"\"\"\n",
    "        raise NotImplementedError(\"initial_percept\")   # abstract method\n",
    "\n",
    "    def do(self, action):\n",
    "        \"\"\"does the action in the environment\n",
    "        returns the next percept \"\"\"\n",
    "        raise NotImplementedError(\"Environment.do\")   # abstract method"
   ]
  },
  {
   "cell_type": "code",
   "execution_count": 44,
   "metadata": {},
   "outputs": [],
   "source": [
    "class Simulate(Displayable):\n",
    "\n",
    "    def __init__(self, agent, environment):\n",
    "        self.agent = agent\n",
    "        self.env = environment\n",
    "        self.percept = self.env.initial_percept()\n",
    "        self.percept_history = [self.percept]\n",
    "        self.action_history = []\n",
    "\n",
    "    def go(self, n):\n",
    "        for i in range(n):\n",
    "            action = self.agent.select_action(self.percept)\n",
    "            print(f\"i={i} action={action}\")\n",
    "\n",
    "            self.percept = self.env.do(action, i)\n",
    "            print(f\"      percept={self.percept}\")\n",
    "\n",
    "            # Monitor price\n",
    "            if self.agent.price_controller.is_price_below_threshold(self.percept['price'], self.agent.ave):\n",
    "                print(f\"Price below threshold at time {i}: {self.percept['price']} < {self.agent.ave * (1 - self.agent.price_controller.threshold_discount)}\")"
   ]
  },
  {
   "cell_type": "code",
   "execution_count": 45,
   "metadata": {},
   "outputs": [],
   "source": [
    "class TP_env(Environment):\n",
    "    price_delta = [0, 0, 0, 21, 0, 20, 0, -64, 0, 0, 23, 0, 0, 0, -35,\n",
    "        0, 76, 0, -41, 0, 0, 0, 21, 0, 5, 0, 5, 0, 0, 0, 5, 0, -15, 0, 5,\n",
    "       0, 5, 0, -115, 0, 115, 0, 5, 0, -15, 0, 5, 0, 5, 0, 0, 0, 5, 0,\n",
    "       -59, 0, 44, 0, 5, 0, 5, 0, 0, 0, 5, 0, -65, 50, 0, 5, 0, 5, 0, 0,\n",
    "       0, 5, 0]\n",
    "    sd = 5\n",
    "\n",
    "    def __init__(self):\n",
    "        \"\"\"paper buying agent\"\"\"\n",
    "        self.time=0\n",
    "        self.stock=20\n",
    "        self.stock_history = []\n",
    "        self.price_history = []\n",
    "\n",
    "    def initial_percept(self):\n",
    "        \"\"\"return initial percept\"\"\"\n",
    "        self.stock_history.append(self.stock)\n",
    "        self.price = round(234+self.sd*random.gauss(0,1))\n",
    "        self.price_history.append(self.price)\n",
    "        return {'price': self.price,\n",
    "                'instock': self.stock}\n",
    "\n",
    "    def do(self, action, time_unit):\n",
    "        \"\"\"does action (buy) and returns percept consisting of price and instock\"\"\"\n",
    "        used = select_from_dist({6:0.1, 5:0.1, 4:0.1, 3:0.3, 2:0.2, 1:0.2})\n",
    "        print(f\"i={time_unit} used={used}\")\n",
    "        bought = action['buy']\n",
    "        self.stock = self.stock+bought-used\n",
    "        self.stock_history.append(self.stock)\n",
    "        self.time += 1\n",
    "        self.price =  round(self.price\n",
    "                        + self.price_delta[self.time%len(self.price_delta)]\n",
    "                        + self.sd*random.gauss(0,1))\n",
    "        self.price_history.append(self.price)\n",
    "        return {'price': self.price,\n",
    "                'instock': self.stock}"
   ]
  },
  {
   "cell_type": "code",
   "execution_count": 46,
   "metadata": {},
   "outputs": [],
   "source": [
    "class PriceMonitoringController:\n",
    "    \"\"\"Monitors the price and determines if it is below the threshold.\"\"\"\n",
    "    def __init__(self, threshold_discount=0.2):\n",
    "        self.threshold_discount = threshold_discount\n",
    "\n",
    "    def is_price_below_threshold(self, current_price, average_price):\n",
    "        \"\"\"Check if the price is below the threshold.\"\"\"\n",
    "        return current_price < (1 - self.threshold_discount) * average_price"
   ]
  },
  {
   "cell_type": "code",
   "execution_count": 47,
   "metadata": {},
   "outputs": [],
   "source": [
    "class InventoryMonitoringController:\n",
    "    \"\"\"Monitors inventory levels and checks if restocking is needed.\"\"\"\n",
    "    def __init__(self, critical_threshold=10):\n",
    "        self.critical_threshold = critical_threshold\n",
    "\n",
    "    def is_inventory_critical(self, current_stock):\n",
    "        \"\"\"Check if inventory is below the critical threshold.\"\"\"\n",
    "        return current_stock < self.critical_threshold"
   ]
  },
  {
   "cell_type": "code",
   "execution_count": 48,
   "metadata": {},
   "outputs": [],
   "source": [
    "class OrderingController:\n",
    "    \"\"\"Decides the quantity to order based on inputs from other controllers.\"\"\"\n",
    "    def __init__(self):\n",
    "        self.buy_history = []\n",
    "        self.spent = 0\n",
    "\n",
    "    def decide_order(self, current_price, average_price, current_stock, price_controller, inventory_controller):\n",
    "        \"\"\"Decide the quantity to order.\"\"\"\n",
    "        if price_controller.is_price_below_threshold(current_price, average_price) and current_stock >= 10:\n",
    "            tobuy = 15\n",
    "        elif inventory_controller.is_inventory_critical(current_stock):\n",
    "            tobuy = 10\n",
    "        else:\n",
    "            tobuy = 0\n",
    "\n",
    "        self.buy_history.append(tobuy)\n",
    "        self.spent += tobuy * current_price\n",
    "        return tobuy"
   ]
  },
  {
   "cell_type": "code",
   "execution_count": 49,
   "metadata": {},
   "outputs": [],
   "source": [
    "class TP_agent(Agent):\n",
    "    \"\"\"Agent integrates all controllers and selects the action.\"\"\"\n",
    "    def __init__(self):\n",
    "        percept = env.initial_percept()\n",
    "        self.ave = self.last_price = percept['price']\n",
    "        self.instock = percept['instock']\n",
    "\n",
    "        # Initialize controllers\n",
    "        self.price_controller = PriceMonitoringController(threshold_discount=0.2)\n",
    "        self.inventory_controller = InventoryMonitoringController(critical_threshold=10)\n",
    "        self.ordering_controller = OrderingController()\n",
    "\n",
    "    def select_action(self, percept):\n",
    "        \"\"\"Return the next action to carry out.\"\"\"\n",
    "        self.last_price = percept['price']\n",
    "        self.ave = self.ave + (self.last_price - self.ave) * 0.05\n",
    "        self.instock = percept['instock']\n",
    "\n",
    "        tobuy = self.ordering_controller.decide_order(\n",
    "            self.last_price,\n",
    "            self.ave,\n",
    "            self.instock,\n",
    "            self.price_controller,\n",
    "            self.inventory_controller\n",
    "        )\n",
    "        return {'buy': tobuy}\n"
   ]
  },
  {
   "cell_type": "code",
   "execution_count": null,
   "metadata": {},
   "outputs": [],
   "source": []
  },
  {
   "cell_type": "code",
   "execution_count": 50,
   "metadata": {},
   "outputs": [
    {
     "name": "stdout",
     "output_type": "stream",
     "text": [
      "i=0 action={'buy': 0}\n",
      "i=0 used=1\n",
      "      percept={'price': 242, 'instock': 19}\n",
      "i=1 action={'buy': 0}\n",
      "i=1 used=2\n",
      "      percept={'price': 243, 'instock': 17}\n",
      "i=2 action={'buy': 0}\n",
      "i=2 used=5\n",
      "      percept={'price': 263, 'instock': 12}\n",
      "i=3 action={'buy': 0}\n",
      "i=3 used=3\n",
      "      percept={'price': 260, 'instock': 9}\n",
      "i=4 action={'buy': 10}\n",
      "i=4 used=3\n",
      "      percept={'price': 287, 'instock': 16}\n",
      "i=5 action={'buy': 0}\n",
      "i=5 used=5\n",
      "      percept={'price': 298, 'instock': 11}\n",
      "i=6 action={'buy': 0}\n",
      "i=6 used=3\n",
      "      percept={'price': 240, 'instock': 8}\n",
      "i=7 action={'buy': 10}\n",
      "i=7 used=1\n",
      "      percept={'price': 237, 'instock': 17}\n",
      "i=8 action={'buy': 0}\n",
      "i=8 used=5\n",
      "      percept={'price': 242, 'instock': 12}\n",
      "i=9 action={'buy': 0}\n",
      "i=9 used=2\n",
      "      percept={'price': 267, 'instock': 10}\n"
     ]
    },
    {
     "data": {
      "text/plain": [
       "500.0"
      ]
     },
     "execution_count": 50,
     "metadata": {},
     "output_type": "execute_result"
    }
   ],
   "source": [
    "\n",
    "env = TP_env()\n",
    "ag = TP_agent()\n",
    "sim = Simulate(ag,env)\n",
    "sim.go(10)\n",
    "ag.ordering_controller.spent/env.time"
   ]
  }
 ],
 "metadata": {
  "kernelspec": {
   "display_name": ".venv",
   "language": "python",
   "name": "python3"
  },
  "language_info": {
   "codemirror_mode": {
    "name": "ipython",
    "version": 3
   },
   "file_extension": ".py",
   "mimetype": "text/x-python",
   "name": "python",
   "nbconvert_exporter": "python",
   "pygments_lexer": "ipython3",
   "version": "3.12.1"
  }
 },
 "nbformat": 4,
 "nbformat_minor": 2
}
